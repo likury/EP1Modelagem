{
 "cells": [
  {
   "cell_type": "code",
   "execution_count": 16,
   "id": "c4ce17ab",
   "metadata": {},
   "outputs": [],
   "source": [
    "import json\n",
    "import copy\n",
    "\n",
    "indiceInicial = 2822\n",
    "indiceFinal = 2867\n",
    "arquivoJson = 'responseTexas.json'\n",
    "arquivoJsonFinal = 'rodoviaTexas.json'\n",
    "wanted = ['lat', 'lng', 'heading', 'shot_data', 'shot_date', 'sequence_index', 'sequence_id']\n"
   ]
  },
  {
   "cell_type": "code",
   "execution_count": 17,
   "id": "63b5e491",
   "metadata": {},
   "outputs": [],
   "source": [
    "def extrairPhotos(pontos):\n",
    "    pontosExtraido = {'photos': ''}\n",
    "    pontosExtraido['photos'] = pontos['osv']['photos']\n",
    "    return pontosExtraido\n",
    "\n",
    "def limparPontosExtraido(pontosExtraido, wanted):\n",
    "\n",
    "    unwanted = set(pontosExtraido['photos'][0].keys()) - set(wanted)\n",
    "    \n",
    "    for photo in pontosExtraido['photos']:\n",
    "        for unwanted_key in unwanted: del photo[unwanted_key]\n",
    "    return pontosExtraido\n",
    "\n",
    "def filtrarPontosLimpos(pontosLimpo, indiceInicial, indiceFinal):\n",
    "    pontosLimpo['photos'] = [pontosLimpo['photos'][i] for i in range (indiceInicial, indiceFinal + 1)]\n",
    "    return pontosLimpo"
   ]
  },
  {
   "cell_type": "code",
   "execution_count": 18,
   "id": "1635e39b",
   "metadata": {},
   "outputs": [],
   "source": [
    "with open(arquivoJson, \"r\") as f:\n",
    "    pontos = f.read()\n",
    "    pontos = json.loads(pontos)"
   ]
  },
  {
   "cell_type": "code",
   "execution_count": 19,
   "id": "e977c061",
   "metadata": {},
   "outputs": [],
   "source": [
    "pontosExtraido = extrairPhotos(pontos)\n",
    "pontosLimpo = limparPontosExtraido(pontosExtraido, wanted)\n",
    "pontosFiltrado = filtrarPontosLimpos(pontosLimpo, indiceInicial, indiceFinal)"
   ]
  },
  {
   "cell_type": "code",
   "execution_count": 20,
   "id": "7e1d39ed",
   "metadata": {},
   "outputs": [],
   "source": [
    "with open(arquivoJsonFinal, 'w') as f:\n",
    "    json.dump(pontosFiltrado, f)"
   ]
  },
  {
   "cell_type": "code",
   "execution_count": null,
   "id": "b3b030ce",
   "metadata": {},
   "outputs": [],
   "source": []
  }
 ],
 "metadata": {
  "kernelspec": {
   "name": "python388jvsc74a57bd05ed018bc26392872575599a3c4dc62a02cff4ab7a0f6b82e33d06824c2f37922",
   "display_name": "Python 3.8.8 64-bit ('jupyter-notebooks': conda)"
  },
  "language_info": {
   "codemirror_mode": {
    "name": "ipython",
    "version": 3
   },
   "file_extension": ".py",
   "mimetype": "text/x-python",
   "name": "python",
   "nbconvert_exporter": "python",
   "pygments_lexer": "ipython3",
   "version": "3.8.8"
  }
 },
 "nbformat": 4,
 "nbformat_minor": 5
}