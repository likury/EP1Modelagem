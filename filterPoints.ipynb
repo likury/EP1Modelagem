{
 "cells": [
  {
   "cell_type": "code",
   "execution_count": 45,
   "id": "c4ce17ab",
   "metadata": {},
   "outputs": [],
   "source": [
    "import json\n",
    "import copy\n",
    "\n",
    "indiceInicial = 1529\n",
    "indiceFinal = 1579\n",
    "arquivoJson = 'response.json'\n",
    "arquivoJsonFinal = 'rodoviaBrasil.json'\n",
    "wanted = ['lat', 'lng', 'heading', 'shot_data', 'shot_date', 'sequence_index', 'sequence_id']\n"
   ]
  },
  {
   "cell_type": "code",
   "execution_count": 46,
   "id": "63b5e491",
   "metadata": {},
   "outputs": [],
   "source": [
    "def extrairPhotos(pontos):\n",
    "    pontosExtraido = {'photos': ''}\n",
    "    pontosExtraido['photos'] = pontos['osv']['photos']\n",
    "    return pontosExtraido\n",
    "\n",
    "def limparPontosExtraido(pontosExtraido, wanted):\n",
    "\n",
    "    unwanted = set(pontosExtraido['photos'][0].keys()) - set(wanted)\n",
    "    \n",
    "    for photo in pontosExtraido['photos']:\n",
    "        for unwanted_key in unwanted: del photo[unwanted_key]\n",
    "    return pontosExtraido\n",
    "\n",
    "def filtrarPontosLimpos(pontosLimpo, indiceInicial, indiceFinal):\n",
    "    pontosLimpo['photos'] = [pontosLimpo['photos'][i] for i in range (indiceInicial, indiceFinal + 1)]\n",
    "    return pontosLimpo"
   ]
  },
  {
   "cell_type": "code",
   "execution_count": 47,
   "id": "1635e39b",
   "metadata": {},
   "outputs": [],
   "source": [
    "with open(arquivoJson, \"r\") as f:\n",
    "    pontos = f.read()\n",
    "    pontos = json.loads(pontos)"
   ]
  },
  {
   "cell_type": "code",
   "execution_count": 48,
   "id": "e977c061",
   "metadata": {},
   "outputs": [],
   "source": [
    "pontosExtraido = extrairPhotos(pontos)\n",
    "pontosLimpo = limparPontosExtraido(pontosExtraido, wanted)\n",
    "pontosFiltrado = filtrarPontosLimpos(pontosLimpo, indiceInicial, indiceFinal)"
   ]
  },
  {
   "cell_type": "code",
   "execution_count": 49,
   "id": "7e1d39ed",
   "metadata": {},
   "outputs": [],
   "source": [
    "with open(arquivoJsonFinal, 'w') as f:\n",
    "    json.dump(pontosFiltrado, f)"
   ]
  },
  {
   "cell_type": "code",
   "execution_count": null,
   "id": "b3b030ce",
   "metadata": {},
   "outputs": [],
   "source": []
  }
 ],
 "metadata": {
  "kernelspec": {
   "display_name": "Python 3",
   "language": "python",
   "name": "python3"
  },
  "language_info": {
   "codemirror_mode": {
    "name": "ipython",
    "version": 3
   },
   "file_extension": ".py",
   "mimetype": "text/x-python",
   "name": "python",
   "nbconvert_exporter": "python",
   "pygments_lexer": "ipython3",
   "version": "3.9.3"
  }
 },
 "nbformat": 4,
 "nbformat_minor": 5
}
